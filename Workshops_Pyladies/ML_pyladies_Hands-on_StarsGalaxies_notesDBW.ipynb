{
 "cells": [
  {
   "cell_type": "markdown",
   "metadata": {},
   "source": [
    "# WORKSHOP INTRODUÇÃO À MACHINE LEARNING\n",
    "Autoria: Lilianne M. I. Nakazono | Organização: Pyladies SP | Local: FIAP Paulista\n",
    "\n",
    "Neste arquivo vocês irão botar em prática tudo o que aprenderam. Usem o tutorial.ipynb como material de consulta :)"
   ]
  },
  {
   "cell_type": "code",
   "execution_count": 2,
   "metadata": {},
   "outputs": [],
   "source": [
    "'''\n",
    "\n",
    "\n",
    "'''\n",
    "\n",
    "# Importando bibliotecas:\n",
    "import matplotlib.pyplot as plt\n",
    "from sklearn.metrics import confusion_matrix\n",
    "from sklearn import datasets\n",
    "import pandas as pd\n",
    "import numpy as np\n",
    "import matplotlib.pyplot as plt \n",
    "import seaborn as sns\n",
    "from sklearn.model_selection import train_test_split\n",
    "from sklearn.svm import SVC\n",
    "from sklearn.ensemble import RandomForestClassifier\n",
    "from sklearn.neighbors import KNeighborsClassifier\n",
    "from sklearn.tree import DecisionTreeClassifier\n",
    "from sklearn.metrics import confusion_matrix\n",
    "import itertools\n",
    "from sklearn import metrics"
   ]
  },
  {
   "cell_type": "code",
   "execution_count": 101,
   "metadata": {},
   "outputs": [],
   "source": [
    "def plot_confusion_matrix(cm, classes,\n",
    "                          normalize=False,\n",
    "                          title='Confusion matrix',\n",
    "                          cmap=plt.cm.Blues):\n",
    "    \"\"\"\n",
    "    This function prints and plots the confusion matrix.\n",
    "    Normalization can be applied by setting `normalize=True`.\n",
    "    \"\"\"\n",
    "    if normalize:\n",
    "        cm = cm.astype('float') / cm.sum(axis=1)[:, np.newaxis]\n",
    "        print(\"Normalized confusion matrix\")\n",
    "    else:\n",
    "        print('Confusion matrix, without normalization')\n",
    "\n",
    "    plt.imshow(cm, interpolation='nearest', cmap=cmap)\n",
    "    plt.title(title)\n",
    "    plt.colorbar()\n",
    "    tick_marks = np.arange(len(classes))\n",
    "    plt.xticks(tick_marks, classes, rotation=45)\n",
    "    plt.yticks(tick_marks, classes)\n",
    "\n",
    "    fmt = '.3f' if normalize else 'd'\n",
    "    thresh = cm.max() / 2.\n",
    "    for i, j in itertools.product(range(cm.shape[0]), range(cm.shape[1])):\n",
    "        plt.text(j, i, format(cm[i, j], fmt),\n",
    "                 horizontalalignment=\"center\",verticalalignment=\"center\",\n",
    "                 color=\"white\" if cm[i, j] > thresh else \"black\")\n",
    "\n",
    "    plt.ylabel('True label')\n",
    "    plt.xlabel('Predicted label')\n",
    "    plt.tight_layout()\n",
    "    print (cm)\n",
    "    return(cm)\n",
    "    "
   ]
  },
  {
   "cell_type": "code",
   "execution_count": 5,
   "metadata": {},
   "outputs": [],
   "source": [
    "'''\n",
    "3. Leitura de dados\n",
    "'''\n",
    "#  Star/Galaxy dataset\n",
    "\n",
    "url = 'https://raw.githubusercontent.com/marixko/'\n",
    "file = 'tutorial_classifiers/master/tutorial_data.txt'\n",
    "data = pd.read_csv(url+file, delim_whitespace=True, low_memory=False)"
   ]
  },
  {
   "cell_type": "code",
   "execution_count": 8,
   "metadata": {},
   "outputs": [
    {
     "data": {
      "text/plain": [
       "21"
      ]
     },
     "execution_count": 8,
     "metadata": {},
     "output_type": "execute_result"
    }
   ],
   "source": [
    "len(data.columns)"
   ]
  },
  {
   "cell_type": "code",
   "execution_count": 6,
   "metadata": {},
   "outputs": [
    {
     "data": {
      "text/plain": [
       "Index(['FIELD', 'ID', 'RA_1', 'Dec_1', 'FWHM_n', 'A', 'B', 'KrRadDet',\n",
       "       'uJAVA_auto', 'F378_auto', 'F395_auto', 'F410_auto', 'F430_auto',\n",
       "       'g_auto', 'F515_auto', 'r_auto', 'F660_auto', 'i_auto', 'F861_auto',\n",
       "       'z_auto', 'class'],\n",
       "      dtype='object')"
      ]
     },
     "execution_count": 6,
     "metadata": {},
     "output_type": "execute_result"
    }
   ],
   "source": [
    "data.columns"
   ]
  },
  {
   "cell_type": "code",
   "execution_count": 7,
   "metadata": {},
   "outputs": [
    {
     "data": {
      "text/plain": [
       "0     GALAXY\n",
       "1     GALAXY\n",
       "2     GALAXY\n",
       "3     GALAXY\n",
       "4     GALAXY\n",
       "5     GALAXY\n",
       "6     GALAXY\n",
       "7     GALAXY\n",
       "8     GALAXY\n",
       "9     GALAXY\n",
       "10    GALAXY\n",
       "11    GALAXY\n",
       "12    GALAXY\n",
       "13    GALAXY\n",
       "14    GALAXY\n",
       "15    GALAXY\n",
       "16    GALAXY\n",
       "17    GALAXY\n",
       "18    GALAXY\n",
       "19    GALAXY\n",
       "Name: class, dtype: object"
      ]
     },
     "execution_count": 7,
     "metadata": {},
     "output_type": "execute_result"
    }
   ],
   "source": [
    "data.iloc[0:20, 20]   # índice 20 é a coluna 21 = Classe do objeto ( estrela/galaxia)"
   ]
  },
  {
   "cell_type": "code",
   "execution_count": 16,
   "metadata": {},
   "outputs": [],
   "source": [
    "'''\n",
    "'FWHM_n', 'A', 'B', 'KrRadDet',\n",
    "       'uJAVA_auto', 'F378_auto', 'F395_auto', 'F410_auto', 'F430_auto',\n",
    "       'g_auto', 'F515_auto', 'r_auto', 'F660_auto', 'i_auto', 'F861_auto',\n",
    "       'z_auto',\n",
    "'''\n",
    "\n",
    "data2=data.iloc[:,4:22]   #ou [ 4 ; len(data.columns)+1] \n",
    "# DEtalhe: nao existe coluna c/ indice 22, mas comando iloc interpreta que queremos até a última coluna\n"
   ]
  },
  {
   "cell_type": "code",
   "execution_count": 17,
   "metadata": {},
   "outputs": [
    {
     "data": {
      "text/plain": [
       "17"
      ]
     },
     "execution_count": 17,
     "metadata": {},
     "output_type": "execute_result"
    }
   ],
   "source": [
    "len(data2.columns)"
   ]
  },
  {
   "cell_type": "code",
   "execution_count": 12,
   "metadata": {},
   "outputs": [
    {
     "data": {
      "text/plain": [
       "0     2.64\n",
       "1     2.19\n",
       "2     2.13\n",
       "3     2.33\n",
       "4     1.96\n",
       "5     3.41\n",
       "6     4.75\n",
       "7     3.04\n",
       "8     2.33\n",
       "9     5.02\n",
       "10    2.39\n",
       "11    3.85\n",
       "12    8.06\n",
       "13    1.84\n",
       "14    4.07\n",
       "15    1.51\n",
       "16    2.67\n",
       "17    1.49\n",
       "18    2.20\n",
       "19    3.53\n",
       "Name: FWHM_n, dtype: float64"
      ]
     },
     "execution_count": 12,
     "metadata": {},
     "output_type": "execute_result"
    }
   ],
   "source": [
    "data2.iloc[0:20,0]"
   ]
  },
  {
   "cell_type": "code",
   "execution_count": 18,
   "metadata": {},
   "outputs": [
    {
     "data": {
      "text/plain": [
       "Index(['FWHM_n', 'A', 'B', 'KrRadDet', 'uJAVA_auto', 'F378_auto', 'F395_auto',\n",
       "       'F410_auto', 'F430_auto', 'g_auto', 'F515_auto', 'r_auto', 'F660_auto',\n",
       "       'i_auto', 'F861_auto', 'z_auto', 'class'],\n",
       "      dtype='object')"
      ]
     },
     "execution_count": 18,
     "metadata": {},
     "output_type": "execute_result"
    }
   ],
   "source": [
    "data2.columns"
   ]
  },
  {
   "cell_type": "code",
   "execution_count": 20,
   "metadata": {},
   "outputs": [
    {
     "data": {
      "text/html": [
       "<div>\n",
       "<style scoped>\n",
       "    .dataframe tbody tr th:only-of-type {\n",
       "        vertical-align: middle;\n",
       "    }\n",
       "\n",
       "    .dataframe tbody tr th {\n",
       "        vertical-align: top;\n",
       "    }\n",
       "\n",
       "    .dataframe thead th {\n",
       "        text-align: right;\n",
       "    }\n",
       "</style>\n",
       "<table border=\"1\" class=\"dataframe\">\n",
       "  <thead>\n",
       "    <tr style=\"text-align: right;\">\n",
       "      <th></th>\n",
       "      <th>FWHM_n</th>\n",
       "      <th>A</th>\n",
       "      <th>B</th>\n",
       "      <th>KrRadDet</th>\n",
       "      <th>uJAVA_auto</th>\n",
       "      <th>F378_auto</th>\n",
       "      <th>F395_auto</th>\n",
       "      <th>F410_auto</th>\n",
       "      <th>F430_auto</th>\n",
       "      <th>g_auto</th>\n",
       "      <th>F515_auto</th>\n",
       "      <th>r_auto</th>\n",
       "      <th>F660_auto</th>\n",
       "      <th>i_auto</th>\n",
       "      <th>F861_auto</th>\n",
       "      <th>z_auto</th>\n",
       "    </tr>\n",
       "  </thead>\n",
       "  <tbody>\n",
       "    <tr>\n",
       "      <th>FWHM_n</th>\n",
       "      <td>1.000000</td>\n",
       "      <td>0.839555</td>\n",
       "      <td>0.512291</td>\n",
       "      <td>0.611989</td>\n",
       "      <td>0.047466</td>\n",
       "      <td>0.074574</td>\n",
       "      <td>0.066278</td>\n",
       "      <td>0.201061</td>\n",
       "      <td>0.175818</td>\n",
       "      <td>0.244246</td>\n",
       "      <td>0.219978</td>\n",
       "      <td>0.286285</td>\n",
       "      <td>0.283785</td>\n",
       "      <td>0.281232</td>\n",
       "      <td>0.260957</td>\n",
       "      <td>0.257709</td>\n",
       "    </tr>\n",
       "    <tr>\n",
       "      <th>A</th>\n",
       "      <td>0.839555</td>\n",
       "      <td>1.000000</td>\n",
       "      <td>0.730396</td>\n",
       "      <td>0.542292</td>\n",
       "      <td>-0.145211</td>\n",
       "      <td>-0.120766</td>\n",
       "      <td>-0.131018</td>\n",
       "      <td>-0.003861</td>\n",
       "      <td>-0.043364</td>\n",
       "      <td>-0.001228</td>\n",
       "      <td>-0.032557</td>\n",
       "      <td>0.020555</td>\n",
       "      <td>0.014607</td>\n",
       "      <td>0.007401</td>\n",
       "      <td>-0.018301</td>\n",
       "      <td>-0.022914</td>\n",
       "    </tr>\n",
       "    <tr>\n",
       "      <th>B</th>\n",
       "      <td>0.512291</td>\n",
       "      <td>0.730396</td>\n",
       "      <td>1.000000</td>\n",
       "      <td>0.439103</td>\n",
       "      <td>-0.305832</td>\n",
       "      <td>-0.278933</td>\n",
       "      <td>-0.279254</td>\n",
       "      <td>-0.168761</td>\n",
       "      <td>-0.206229</td>\n",
       "      <td>-0.183389</td>\n",
       "      <td>-0.213373</td>\n",
       "      <td>-0.161669</td>\n",
       "      <td>-0.167198</td>\n",
       "      <td>-0.168030</td>\n",
       "      <td>-0.186959</td>\n",
       "      <td>-0.188798</td>\n",
       "    </tr>\n",
       "    <tr>\n",
       "      <th>KrRadDet</th>\n",
       "      <td>0.611989</td>\n",
       "      <td>0.542292</td>\n",
       "      <td>0.439103</td>\n",
       "      <td>1.000000</td>\n",
       "      <td>0.250484</td>\n",
       "      <td>0.281638</td>\n",
       "      <td>0.286725</td>\n",
       "      <td>0.459663</td>\n",
       "      <td>0.444757</td>\n",
       "      <td>0.522419</td>\n",
       "      <td>0.491980</td>\n",
       "      <td>0.568063</td>\n",
       "      <td>0.564594</td>\n",
       "      <td>0.563376</td>\n",
       "      <td>0.540045</td>\n",
       "      <td>0.537032</td>\n",
       "    </tr>\n",
       "    <tr>\n",
       "      <th>uJAVA_auto</th>\n",
       "      <td>0.047466</td>\n",
       "      <td>-0.145211</td>\n",
       "      <td>-0.305832</td>\n",
       "      <td>0.250484</td>\n",
       "      <td>1.000000</td>\n",
       "      <td>0.977886</td>\n",
       "      <td>0.966915</td>\n",
       "      <td>0.934877</td>\n",
       "      <td>0.931855</td>\n",
       "      <td>0.870678</td>\n",
       "      <td>0.882644</td>\n",
       "      <td>0.750987</td>\n",
       "      <td>0.714843</td>\n",
       "      <td>0.660726</td>\n",
       "      <td>0.620463</td>\n",
       "      <td>0.609367</td>\n",
       "    </tr>\n",
       "    <tr>\n",
       "      <th>F378_auto</th>\n",
       "      <td>0.074574</td>\n",
       "      <td>-0.120766</td>\n",
       "      <td>-0.278933</td>\n",
       "      <td>0.281638</td>\n",
       "      <td>0.977886</td>\n",
       "      <td>1.000000</td>\n",
       "      <td>0.971463</td>\n",
       "      <td>0.941335</td>\n",
       "      <td>0.936022</td>\n",
       "      <td>0.876836</td>\n",
       "      <td>0.889432</td>\n",
       "      <td>0.759613</td>\n",
       "      <td>0.724160</td>\n",
       "      <td>0.671152</td>\n",
       "      <td>0.630921</td>\n",
       "      <td>0.619693</td>\n",
       "    </tr>\n",
       "    <tr>\n",
       "      <th>F395_auto</th>\n",
       "      <td>0.066278</td>\n",
       "      <td>-0.131018</td>\n",
       "      <td>-0.279254</td>\n",
       "      <td>0.286725</td>\n",
       "      <td>0.966915</td>\n",
       "      <td>0.971463</td>\n",
       "      <td>1.000000</td>\n",
       "      <td>0.945751</td>\n",
       "      <td>0.942531</td>\n",
       "      <td>0.887913</td>\n",
       "      <td>0.898664</td>\n",
       "      <td>0.778982</td>\n",
       "      <td>0.744883</td>\n",
       "      <td>0.694760</td>\n",
       "      <td>0.656544</td>\n",
       "      <td>0.645615</td>\n",
       "    </tr>\n",
       "    <tr>\n",
       "      <th>F410_auto</th>\n",
       "      <td>0.201061</td>\n",
       "      <td>-0.003861</td>\n",
       "      <td>-0.168761</td>\n",
       "      <td>0.459663</td>\n",
       "      <td>0.934877</td>\n",
       "      <td>0.941335</td>\n",
       "      <td>0.945751</td>\n",
       "      <td>1.000000</td>\n",
       "      <td>0.984517</td>\n",
       "      <td>0.962703</td>\n",
       "      <td>0.961679</td>\n",
       "      <td>0.884248</td>\n",
       "      <td>0.854985</td>\n",
       "      <td>0.808642</td>\n",
       "      <td>0.768812</td>\n",
       "      <td>0.758427</td>\n",
       "    </tr>\n",
       "    <tr>\n",
       "      <th>F430_auto</th>\n",
       "      <td>0.175818</td>\n",
       "      <td>-0.043364</td>\n",
       "      <td>-0.206229</td>\n",
       "      <td>0.444757</td>\n",
       "      <td>0.931855</td>\n",
       "      <td>0.936022</td>\n",
       "      <td>0.942531</td>\n",
       "      <td>0.984517</td>\n",
       "      <td>1.000000</td>\n",
       "      <td>0.973044</td>\n",
       "      <td>0.972831</td>\n",
       "      <td>0.901818</td>\n",
       "      <td>0.874865</td>\n",
       "      <td>0.830889</td>\n",
       "      <td>0.794354</td>\n",
       "      <td>0.784306</td>\n",
       "    </tr>\n",
       "    <tr>\n",
       "      <th>g_auto</th>\n",
       "      <td>0.244246</td>\n",
       "      <td>-0.001228</td>\n",
       "      <td>-0.183389</td>\n",
       "      <td>0.522419</td>\n",
       "      <td>0.870678</td>\n",
       "      <td>0.876836</td>\n",
       "      <td>0.887913</td>\n",
       "      <td>0.962703</td>\n",
       "      <td>0.973044</td>\n",
       "      <td>1.000000</td>\n",
       "      <td>0.995132</td>\n",
       "      <td>0.972112</td>\n",
       "      <td>0.955053</td>\n",
       "      <td>0.925839</td>\n",
       "      <td>0.897123</td>\n",
       "      <td>0.890322</td>\n",
       "    </tr>\n",
       "    <tr>\n",
       "      <th>F515_auto</th>\n",
       "      <td>0.219978</td>\n",
       "      <td>-0.032557</td>\n",
       "      <td>-0.213373</td>\n",
       "      <td>0.491980</td>\n",
       "      <td>0.882644</td>\n",
       "      <td>0.889432</td>\n",
       "      <td>0.898664</td>\n",
       "      <td>0.961679</td>\n",
       "      <td>0.972831</td>\n",
       "      <td>0.995132</td>\n",
       "      <td>1.000000</td>\n",
       "      <td>0.965653</td>\n",
       "      <td>0.949815</td>\n",
       "      <td>0.919970</td>\n",
       "      <td>0.893351</td>\n",
       "      <td>0.886144</td>\n",
       "    </tr>\n",
       "    <tr>\n",
       "      <th>r_auto</th>\n",
       "      <td>0.286285</td>\n",
       "      <td>0.020555</td>\n",
       "      <td>-0.161669</td>\n",
       "      <td>0.568063</td>\n",
       "      <td>0.750987</td>\n",
       "      <td>0.759613</td>\n",
       "      <td>0.778982</td>\n",
       "      <td>0.884248</td>\n",
       "      <td>0.901818</td>\n",
       "      <td>0.972112</td>\n",
       "      <td>0.965653</td>\n",
       "      <td>1.000000</td>\n",
       "      <td>0.996397</td>\n",
       "      <td>0.985739</td>\n",
       "      <td>0.970147</td>\n",
       "      <td>0.966610</td>\n",
       "    </tr>\n",
       "    <tr>\n",
       "      <th>F660_auto</th>\n",
       "      <td>0.283785</td>\n",
       "      <td>0.014607</td>\n",
       "      <td>-0.167198</td>\n",
       "      <td>0.564594</td>\n",
       "      <td>0.714843</td>\n",
       "      <td>0.724160</td>\n",
       "      <td>0.744883</td>\n",
       "      <td>0.854985</td>\n",
       "      <td>0.874865</td>\n",
       "      <td>0.955053</td>\n",
       "      <td>0.949815</td>\n",
       "      <td>0.996397</td>\n",
       "      <td>1.000000</td>\n",
       "      <td>0.993552</td>\n",
       "      <td>0.983711</td>\n",
       "      <td>0.980167</td>\n",
       "    </tr>\n",
       "    <tr>\n",
       "      <th>i_auto</th>\n",
       "      <td>0.281232</td>\n",
       "      <td>0.007401</td>\n",
       "      <td>-0.168030</td>\n",
       "      <td>0.563376</td>\n",
       "      <td>0.660726</td>\n",
       "      <td>0.671152</td>\n",
       "      <td>0.694760</td>\n",
       "      <td>0.808642</td>\n",
       "      <td>0.830889</td>\n",
       "      <td>0.925839</td>\n",
       "      <td>0.919970</td>\n",
       "      <td>0.985739</td>\n",
       "      <td>0.993552</td>\n",
       "      <td>1.000000</td>\n",
       "      <td>0.995460</td>\n",
       "      <td>0.994937</td>\n",
       "    </tr>\n",
       "    <tr>\n",
       "      <th>F861_auto</th>\n",
       "      <td>0.260957</td>\n",
       "      <td>-0.018301</td>\n",
       "      <td>-0.186959</td>\n",
       "      <td>0.540045</td>\n",
       "      <td>0.620463</td>\n",
       "      <td>0.630921</td>\n",
       "      <td>0.656544</td>\n",
       "      <td>0.768812</td>\n",
       "      <td>0.794354</td>\n",
       "      <td>0.897123</td>\n",
       "      <td>0.893351</td>\n",
       "      <td>0.970147</td>\n",
       "      <td>0.983711</td>\n",
       "      <td>0.995460</td>\n",
       "      <td>1.000000</td>\n",
       "      <td>0.997999</td>\n",
       "    </tr>\n",
       "    <tr>\n",
       "      <th>z_auto</th>\n",
       "      <td>0.257709</td>\n",
       "      <td>-0.022914</td>\n",
       "      <td>-0.188798</td>\n",
       "      <td>0.537032</td>\n",
       "      <td>0.609367</td>\n",
       "      <td>0.619693</td>\n",
       "      <td>0.645615</td>\n",
       "      <td>0.758427</td>\n",
       "      <td>0.784306</td>\n",
       "      <td>0.890322</td>\n",
       "      <td>0.886144</td>\n",
       "      <td>0.966610</td>\n",
       "      <td>0.980167</td>\n",
       "      <td>0.994937</td>\n",
       "      <td>0.997999</td>\n",
       "      <td>1.000000</td>\n",
       "    </tr>\n",
       "  </tbody>\n",
       "</table>\n",
       "</div>"
      ],
      "text/plain": [
       "              FWHM_n         A         B  KrRadDet  uJAVA_auto  F378_auto  \\\n",
       "FWHM_n      1.000000  0.839555  0.512291  0.611989    0.047466   0.074574   \n",
       "A           0.839555  1.000000  0.730396  0.542292   -0.145211  -0.120766   \n",
       "B           0.512291  0.730396  1.000000  0.439103   -0.305832  -0.278933   \n",
       "KrRadDet    0.611989  0.542292  0.439103  1.000000    0.250484   0.281638   \n",
       "uJAVA_auto  0.047466 -0.145211 -0.305832  0.250484    1.000000   0.977886   \n",
       "F378_auto   0.074574 -0.120766 -0.278933  0.281638    0.977886   1.000000   \n",
       "F395_auto   0.066278 -0.131018 -0.279254  0.286725    0.966915   0.971463   \n",
       "F410_auto   0.201061 -0.003861 -0.168761  0.459663    0.934877   0.941335   \n",
       "F430_auto   0.175818 -0.043364 -0.206229  0.444757    0.931855   0.936022   \n",
       "g_auto      0.244246 -0.001228 -0.183389  0.522419    0.870678   0.876836   \n",
       "F515_auto   0.219978 -0.032557 -0.213373  0.491980    0.882644   0.889432   \n",
       "r_auto      0.286285  0.020555 -0.161669  0.568063    0.750987   0.759613   \n",
       "F660_auto   0.283785  0.014607 -0.167198  0.564594    0.714843   0.724160   \n",
       "i_auto      0.281232  0.007401 -0.168030  0.563376    0.660726   0.671152   \n",
       "F861_auto   0.260957 -0.018301 -0.186959  0.540045    0.620463   0.630921   \n",
       "z_auto      0.257709 -0.022914 -0.188798  0.537032    0.609367   0.619693   \n",
       "\n",
       "            F395_auto  F410_auto  F430_auto    g_auto  F515_auto    r_auto  \\\n",
       "FWHM_n       0.066278   0.201061   0.175818  0.244246   0.219978  0.286285   \n",
       "A           -0.131018  -0.003861  -0.043364 -0.001228  -0.032557  0.020555   \n",
       "B           -0.279254  -0.168761  -0.206229 -0.183389  -0.213373 -0.161669   \n",
       "KrRadDet     0.286725   0.459663   0.444757  0.522419   0.491980  0.568063   \n",
       "uJAVA_auto   0.966915   0.934877   0.931855  0.870678   0.882644  0.750987   \n",
       "F378_auto    0.971463   0.941335   0.936022  0.876836   0.889432  0.759613   \n",
       "F395_auto    1.000000   0.945751   0.942531  0.887913   0.898664  0.778982   \n",
       "F410_auto    0.945751   1.000000   0.984517  0.962703   0.961679  0.884248   \n",
       "F430_auto    0.942531   0.984517   1.000000  0.973044   0.972831  0.901818   \n",
       "g_auto       0.887913   0.962703   0.973044  1.000000   0.995132  0.972112   \n",
       "F515_auto    0.898664   0.961679   0.972831  0.995132   1.000000  0.965653   \n",
       "r_auto       0.778982   0.884248   0.901818  0.972112   0.965653  1.000000   \n",
       "F660_auto    0.744883   0.854985   0.874865  0.955053   0.949815  0.996397   \n",
       "i_auto       0.694760   0.808642   0.830889  0.925839   0.919970  0.985739   \n",
       "F861_auto    0.656544   0.768812   0.794354  0.897123   0.893351  0.970147   \n",
       "z_auto       0.645615   0.758427   0.784306  0.890322   0.886144  0.966610   \n",
       "\n",
       "            F660_auto    i_auto  F861_auto    z_auto  \n",
       "FWHM_n       0.283785  0.281232   0.260957  0.257709  \n",
       "A            0.014607  0.007401  -0.018301 -0.022914  \n",
       "B           -0.167198 -0.168030  -0.186959 -0.188798  \n",
       "KrRadDet     0.564594  0.563376   0.540045  0.537032  \n",
       "uJAVA_auto   0.714843  0.660726   0.620463  0.609367  \n",
       "F378_auto    0.724160  0.671152   0.630921  0.619693  \n",
       "F395_auto    0.744883  0.694760   0.656544  0.645615  \n",
       "F410_auto    0.854985  0.808642   0.768812  0.758427  \n",
       "F430_auto    0.874865  0.830889   0.794354  0.784306  \n",
       "g_auto       0.955053  0.925839   0.897123  0.890322  \n",
       "F515_auto    0.949815  0.919970   0.893351  0.886144  \n",
       "r_auto       0.996397  0.985739   0.970147  0.966610  \n",
       "F660_auto    1.000000  0.993552   0.983711  0.980167  \n",
       "i_auto       0.993552  1.000000   0.995460  0.994937  \n",
       "F861_auto    0.983711  0.995460   1.000000  0.997999  \n",
       "z_auto       0.980167  0.994937   0.997999  1.000000  "
      ]
     },
     "execution_count": 20,
     "metadata": {},
     "output_type": "execute_result"
    }
   ],
   "source": [
    "'''\n",
    "4.  ANALISE EXPLORATORIA  DE DADOS\n",
    "'''\n",
    "\n",
    "data2.corr() "
   ]
  },
  {
   "cell_type": "code",
   "execution_count": 26,
   "metadata": {},
   "outputs": [
    {
     "data": {
      "image/png": "[encoded data removed]",
      "text/plain": [
       "<Figure size 1080x1080 with 2 Axes>"
      ]
     },
     "metadata": {
      "needs_background": "light"
     },
     "output_type": "display_data"
    }
   ],
   "source": [
    "fig,ax=plt.subplots(figsize=(15,15))\n",
    "\n",
    "chart=sns.heatmap( data2.corr(), cmap='bwr', center=0, square=True, annot=True)\n",
    "chart.set_xticklabels(chart.get_xticklabels(), rotation=45)\n",
    "\n",
    "b, t = plt.ylim() # discover the values for bottom and top\n",
    "b += 0.5 # Add 0.5 to the bottom\n",
    "t -= 0.5 # Subtract 0.5 from the top\n",
    "plt.ylim(b, t) # update the ylim(bottom, top) values\n",
    "plt.show() # ta-da!"
   ]
  },
  {
   "cell_type": "code",
   "execution_count": 38,
   "metadata": {},
   "outputs": [
    {
     "data": {
      "text/plain": [
       "0       GALAXY\n",
       "1       GALAXY\n",
       "2       GALAXY\n",
       "3       GALAXY\n",
       "4       GALAXY\n",
       "         ...  \n",
       "9995      STAR\n",
       "9996      STAR\n",
       "9997      STAR\n",
       "9998      STAR\n",
       "9999      STAR\n",
       "Name: class, Length: 10000, dtype: object"
      ]
     },
     "execution_count": 38,
     "metadata": {},
     "output_type": "execute_result"
    }
   ],
   "source": [
    "atribut2=data2.iloc[:,0:16] #até a coluna 15  (o 16 nao entra)\n",
    "\n",
    "class2=data2.iloc[:,16]\n",
    "#len(class2.columns)  # -----NAO FUNCIONOU\n",
    "class2   # 'E o y real QUE QUEREMOS estimar '\n"
   ]
  },
  {
   "cell_type": "code",
   "execution_count": 39,
   "metadata": {},
   "outputs": [],
   "source": [
    "'''\n",
    "5. Amostragem\n",
    "\n",
    "Debe-se separar \n",
    "Para comparar a performance de diversos modelos (por \n",
    "exemplo, com diferentes parâmetros), é importante \n",
    "adicionar mais uma etapa: a validação \n",
    "\n",
    "'''\n",
    "\n",
    "#Amostragem para validação cruzada\n",
    "\n",
    "#target: tem informaçòes das classes\n",
    "x_train, x_test, y_train, y_test = train_test_split(atribut2, \n",
    "                                                    class2,\n",
    "                                                    test_size=0.3, \n",
    "                                                    random_state=2)   ## regra \"randomica\"\n",
    "\n",
    "#amostragem aleatorio: no micro tudo é pseu-daleatorio.\n",
    "#random state é  um numero que sempre as mesmas amostras de teste e treinamento.\n",
    "#  sempre tera a mesma amostra qd random_state=2\n"
   ]
  },
  {
   "cell_type": "code",
   "execution_count": 42,
   "metadata": {},
   "outputs": [
    {
     "data": {
      "text/html": [
       "<div>\n",
       "<style scoped>\n",
       "    .dataframe tbody tr th:only-of-type {\n",
       "        vertical-align: middle;\n",
       "    }\n",
       "\n",
       "    .dataframe tbody tr th {\n",
       "        vertical-align: top;\n",
       "    }\n",
       "\n",
       "    .dataframe thead th {\n",
       "        text-align: right;\n",
       "    }\n",
       "</style>\n",
       "<table border=\"1\" class=\"dataframe\">\n",
       "  <thead>\n",
       "    <tr style=\"text-align: right;\">\n",
       "      <th></th>\n",
       "      <th>FWHM_n</th>\n",
       "      <th>A</th>\n",
       "      <th>B</th>\n",
       "      <th>KrRadDet</th>\n",
       "      <th>uJAVA_auto</th>\n",
       "      <th>F378_auto</th>\n",
       "      <th>F395_auto</th>\n",
       "      <th>F410_auto</th>\n",
       "      <th>F430_auto</th>\n",
       "      <th>g_auto</th>\n",
       "      <th>F515_auto</th>\n",
       "      <th>r_auto</th>\n",
       "      <th>F660_auto</th>\n",
       "      <th>i_auto</th>\n",
       "      <th>F861_auto</th>\n",
       "      <th>z_auto</th>\n",
       "    </tr>\n",
       "  </thead>\n",
       "  <tbody>\n",
       "    <tr>\n",
       "      <th>3194</th>\n",
       "      <td>2.57</td>\n",
       "      <td>5.09</td>\n",
       "      <td>3.58</td>\n",
       "      <td>1.55</td>\n",
       "      <td>19.42</td>\n",
       "      <td>18.97</td>\n",
       "      <td>18.98</td>\n",
       "      <td>18.62</td>\n",
       "      <td>18.55</td>\n",
       "      <td>18.27</td>\n",
       "      <td>18.01</td>\n",
       "      <td>17.74</td>\n",
       "      <td>17.52</td>\n",
       "      <td>17.57</td>\n",
       "      <td>17.52</td>\n",
       "      <td>17.46</td>\n",
       "    </tr>\n",
       "    <tr>\n",
       "      <th>1507</th>\n",
       "      <td>1.86</td>\n",
       "      <td>2.42</td>\n",
       "      <td>2.08</td>\n",
       "      <td>1.43</td>\n",
       "      <td>20.30</td>\n",
       "      <td>20.05</td>\n",
       "      <td>19.83</td>\n",
       "      <td>19.74</td>\n",
       "      <td>19.63</td>\n",
       "      <td>19.42</td>\n",
       "      <td>19.07</td>\n",
       "      <td>18.98</td>\n",
       "      <td>18.92</td>\n",
       "      <td>18.74</td>\n",
       "      <td>18.68</td>\n",
       "      <td>18.56</td>\n",
       "    </tr>\n",
       "    <tr>\n",
       "      <th>3438</th>\n",
       "      <td>3.53</td>\n",
       "      <td>4.90</td>\n",
       "      <td>2.83</td>\n",
       "      <td>1.10</td>\n",
       "      <td>20.21</td>\n",
       "      <td>20.24</td>\n",
       "      <td>19.81</td>\n",
       "      <td>19.98</td>\n",
       "      <td>19.50</td>\n",
       "      <td>18.73</td>\n",
       "      <td>18.58</td>\n",
       "      <td>17.99</td>\n",
       "      <td>17.87</td>\n",
       "      <td>17.59</td>\n",
       "      <td>17.39</td>\n",
       "      <td>17.38</td>\n",
       "    </tr>\n",
       "    <tr>\n",
       "      <th>9707</th>\n",
       "      <td>0.93</td>\n",
       "      <td>2.15</td>\n",
       "      <td>1.98</td>\n",
       "      <td>1.17</td>\n",
       "      <td>18.75</td>\n",
       "      <td>18.47</td>\n",
       "      <td>18.27</td>\n",
       "      <td>17.94</td>\n",
       "      <td>17.87</td>\n",
       "      <td>17.61</td>\n",
       "      <td>17.44</td>\n",
       "      <td>17.19</td>\n",
       "      <td>17.14</td>\n",
       "      <td>17.06</td>\n",
       "      <td>17.02</td>\n",
       "      <td>17.02</td>\n",
       "    </tr>\n",
       "    <tr>\n",
       "      <th>9689</th>\n",
       "      <td>0.98</td>\n",
       "      <td>2.59</td>\n",
       "      <td>2.54</td>\n",
       "      <td>1.00</td>\n",
       "      <td>19.75</td>\n",
       "      <td>19.49</td>\n",
       "      <td>19.14</td>\n",
       "      <td>18.27</td>\n",
       "      <td>18.00</td>\n",
       "      <td>17.32</td>\n",
       "      <td>17.25</td>\n",
       "      <td>16.42</td>\n",
       "      <td>16.29</td>\n",
       "      <td>16.07</td>\n",
       "      <td>15.97</td>\n",
       "      <td>15.94</td>\n",
       "    </tr>\n",
       "    <tr>\n",
       "      <th>9547</th>\n",
       "      <td>1.07</td>\n",
       "      <td>2.38</td>\n",
       "      <td>2.29</td>\n",
       "      <td>1.00</td>\n",
       "      <td>18.37</td>\n",
       "      <td>18.17</td>\n",
       "      <td>17.95</td>\n",
       "      <td>17.24</td>\n",
       "      <td>17.14</td>\n",
       "      <td>16.68</td>\n",
       "      <td>16.51</td>\n",
       "      <td>16.09</td>\n",
       "      <td>16.04</td>\n",
       "      <td>15.86</td>\n",
       "      <td>15.81</td>\n",
       "      <td>15.79</td>\n",
       "    </tr>\n",
       "    <tr>\n",
       "      <th>799</th>\n",
       "      <td>5.11</td>\n",
       "      <td>6.92</td>\n",
       "      <td>3.30</td>\n",
       "      <td>1.47</td>\n",
       "      <td>18.97</td>\n",
       "      <td>19.08</td>\n",
       "      <td>18.52</td>\n",
       "      <td>18.51</td>\n",
       "      <td>18.19</td>\n",
       "      <td>17.76</td>\n",
       "      <td>17.57</td>\n",
       "      <td>17.15</td>\n",
       "      <td>17.16</td>\n",
       "      <td>16.91</td>\n",
       "      <td>16.84</td>\n",
       "      <td>16.74</td>\n",
       "    </tr>\n",
       "    <tr>\n",
       "      <th>1716</th>\n",
       "      <td>2.63</td>\n",
       "      <td>3.61</td>\n",
       "      <td>2.25</td>\n",
       "      <td>1.65</td>\n",
       "      <td>20.43</td>\n",
       "      <td>20.15</td>\n",
       "      <td>19.99</td>\n",
       "      <td>19.70</td>\n",
       "      <td>19.66</td>\n",
       "      <td>19.37</td>\n",
       "      <td>19.11</td>\n",
       "      <td>18.76</td>\n",
       "      <td>18.70</td>\n",
       "      <td>18.46</td>\n",
       "      <td>18.34</td>\n",
       "      <td>18.30</td>\n",
       "    </tr>\n",
       "    <tr>\n",
       "      <th>7894</th>\n",
       "      <td>0.95</td>\n",
       "      <td>2.52</td>\n",
       "      <td>2.17</td>\n",
       "      <td>1.00</td>\n",
       "      <td>19.43</td>\n",
       "      <td>19.36</td>\n",
       "      <td>18.88</td>\n",
       "      <td>18.01</td>\n",
       "      <td>17.63</td>\n",
       "      <td>16.87</td>\n",
       "      <td>16.82</td>\n",
       "      <td>15.90</td>\n",
       "      <td>15.78</td>\n",
       "      <td>15.54</td>\n",
       "      <td>15.44</td>\n",
       "      <td>15.41</td>\n",
       "    </tr>\n",
       "    <tr>\n",
       "      <th>5843</th>\n",
       "      <td>1.03</td>\n",
       "      <td>1.91</td>\n",
       "      <td>1.81</td>\n",
       "      <td>1.07</td>\n",
       "      <td>19.50</td>\n",
       "      <td>19.22</td>\n",
       "      <td>19.18</td>\n",
       "      <td>18.52</td>\n",
       "      <td>18.48</td>\n",
       "      <td>18.12</td>\n",
       "      <td>17.80</td>\n",
       "      <td>17.43</td>\n",
       "      <td>17.36</td>\n",
       "      <td>17.21</td>\n",
       "      <td>17.14</td>\n",
       "      <td>17.19</td>\n",
       "    </tr>\n",
       "  </tbody>\n",
       "</table>\n",
       "</div>"
      ],
      "text/plain": [
       "      FWHM_n     A     B  KrRadDet  uJAVA_auto  F378_auto  F395_auto  \\\n",
       "3194    2.57  5.09  3.58      1.55       19.42      18.97      18.98   \n",
       "1507    1.86  2.42  2.08      1.43       20.30      20.05      19.83   \n",
       "3438    3.53  4.90  2.83      1.10       20.21      20.24      19.81   \n",
       "9707    0.93  2.15  1.98      1.17       18.75      18.47      18.27   \n",
       "9689    0.98  2.59  2.54      1.00       19.75      19.49      19.14   \n",
       "9547    1.07  2.38  2.29      1.00       18.37      18.17      17.95   \n",
       "799     5.11  6.92  3.30      1.47       18.97      19.08      18.52   \n",
       "1716    2.63  3.61  2.25      1.65       20.43      20.15      19.99   \n",
       "7894    0.95  2.52  2.17      1.00       19.43      19.36      18.88   \n",
       "5843    1.03  1.91  1.81      1.07       19.50      19.22      19.18   \n",
       "\n",
       "      F410_auto  F430_auto  g_auto  F515_auto  r_auto  F660_auto  i_auto  \\\n",
       "3194      18.62      18.55   18.27      18.01   17.74      17.52   17.57   \n",
       "1507      19.74      19.63   19.42      19.07   18.98      18.92   18.74   \n",
       "3438      19.98      19.50   18.73      18.58   17.99      17.87   17.59   \n",
       "9707      17.94      17.87   17.61      17.44   17.19      17.14   17.06   \n",
       "9689      18.27      18.00   17.32      17.25   16.42      16.29   16.07   \n",
       "9547      17.24      17.14   16.68      16.51   16.09      16.04   15.86   \n",
       "799       18.51      18.19   17.76      17.57   17.15      17.16   16.91   \n",
       "1716      19.70      19.66   19.37      19.11   18.76      18.70   18.46   \n",
       "7894      18.01      17.63   16.87      16.82   15.90      15.78   15.54   \n",
       "5843      18.52      18.48   18.12      17.80   17.43      17.36   17.21   \n",
       "\n",
       "      F861_auto  z_auto  \n",
       "3194      17.52   17.46  \n",
       "1507      18.68   18.56  \n",
       "3438      17.39   17.38  \n",
       "9707      17.02   17.02  \n",
       "9689      15.97   15.94  \n",
       "9547      15.81   15.79  \n",
       "799       16.84   16.74  \n",
       "1716      18.34   18.30  \n",
       "7894      15.44   15.41  \n",
       "5843      17.14   17.19  "
      ]
     },
     "execution_count": 42,
     "metadata": {},
     "output_type": "execute_result"
    }
   ],
   "source": [
    "x_train[0:10]"
   ]
  },
  {
   "cell_type": "code",
   "execution_count": 156,
   "metadata": {},
   "outputs": [
    {
     "data": {
      "text/plain": [
       "' \\n6. Geração de modelo e VALIDACAO\\n\\n\\nsvm.SVC()\\ntree.DecisionTreeClassifier()\\nensemble.RandomForestClassifier()\\nneighbours.KNeighborsClassifier()\\n\\n'"
      ]
     },
     "execution_count": 156,
     "metadata": {},
     "output_type": "execute_result"
    }
   ],
   "source": [
    "''' \n",
    "6. Geração de modelo e VALIDACAO\n",
    "\n",
    "\n",
    "svm.SVC()\n",
    "tree.DecisionTreeClassifier()\n",
    "ensemble.RandomForestClassifier()\n",
    "neighbours.KNeighborsClassifier()\n",
    "\n",
    "'''"
   ]
  },
  {
   "cell_type": "code",
   "execution_count": 157,
   "metadata": {},
   "outputs": [
    {
     "data": {
      "text/plain": [
       "SVC(C=1.0, cache_size=200, class_weight=None, coef0=0.0,\n",
       "    decision_function_shape='ovr', degree=3, gamma='auto_deprecated',\n",
       "    kernel='linear', max_iter=-1, probability=False, random_state=None,\n",
       "    shrinking=True, tol=0.001, verbose=False)"
      ]
     },
     "execution_count": 157,
     "metadata": {},
     "output_type": "execute_result"
    }
   ],
   "source": [
    "\n",
    "'''\n",
    "MODELO SVC\n",
    "\n",
    "A separação não precisa ser necessariamente linear \n",
    "Para tanto, modifica-se o kernel\n",
    "'''\n",
    "clf2 = SVC(kernel='linear')\n",
    "#clf2.fit(x_train,y_train)\n",
    "#ou\n",
    "clf2.fit(x_train,y_train.values.ravel())"
   ]
  },
  {
   "cell_type": "code",
   "execution_count": 106,
   "metadata": {},
   "outputs": [],
   "source": [
    "y_pred_svc=clf2.predict(x_test)\n",
    "\n",
    "matrix_svc=confusion_matrix(y_test,y_pred_svc)"
   ]
  },
  {
   "cell_type": "code",
   "execution_count": 159,
   "metadata": {},
   "outputs": [
    {
     "name": "stdout",
     "output_type": "stream",
     "text": [
      "Confusion matrix, without normalization\n",
      "[[1498    6]\n",
      " [   6 1490]]\n"
     ]
    },
    {
     "data": {
      "image/png": "[encoded data removed]",
      "text/plain": [
       "<Figure size 432x288 with 2 Axes>"
      ]
     },
     "metadata": {
      "needs_background": "light"
     },
     "output_type": "display_data"
    },
    {
     "data": {
      "text/plain": [
       "\"\\nplot_confusion_matrix(cm, classes,\\n                          normalize=False,\\n                          title='Confusion matrix',\\n                          cmap=plt.cm.Blues): \\n\""
      ]
     },
     "execution_count": 159,
     "metadata": {},
     "output_type": "execute_result"
    }
   ],
   "source": [
    "model=\"  SVC\"\n",
    "#fig,ax=plt.subplots(figsize=(9,9))\n",
    "\n",
    "fig= plot_confusion_matrix(matrix_svc,classes=['0','1'])\n",
    "plt.title('Confusion matrix \\n model:%s' %model)   #replace original title\n",
    "b, t = plt.ylim() # discover the values for bottom and top\n",
    "b += 0.5 # Add 0.5 to the bottom\n",
    "t -= 0.5 # subtract 0.5 from the top\n",
    "plt.ylim(b, t) # update the ylim(bottom, top) values\n",
    "plt.show()\n",
    "\n",
    "\n",
    "'''\n",
    "plot_confusion_matrix(cm, classes,\n",
    "                          normalize=False,\n",
    "                          title='Confusion matrix',\n",
    "                          cmap=plt.cm.Blues): \n",
    "'''"
   ]
  },
  {
   "cell_type": "code",
   "execution_count": null,
   "metadata": {},
   "outputs": [],
   "source": [
    "'''\n",
    "Matriz de confusão\n",
    "                         Predito pelo  modelo\n",
    "                        Estrela      Galaxia\n",
    "            Estrela       VP           FN\n",
    "Verdadeiro  \n",
    "            Galaxia       FP           VN\n",
    "\n",
    "      \n",
    "Métricas de performance\n",
    "\n",
    "• Acurácia\n",
    "(VP + VN) / Total\n",
    "• Precisão (+)\n",
    "VP / (VP + FP)\n",
    "• Recall (+)\n",
    "VP / (VP + FN) \n",
    "• F-score\n",
    "2 (Precision x Recall) / (Precision + Recall)\n",
    "Como quantificar a performance do seu modelo?  \n",
    "\n",
    "'''"
   ]
  },
  {
   "cell_type": "code",
   "execution_count": 166,
   "metadata": {},
   "outputs": [],
   "source": [
    "# https://www.geeksforgeeks.org/multi-dimensional-lists-in-python/\n",
    "#result_models=[[0 for x in range(5)] for x in range(m)] \n",
    "\n",
    "#result_models=[[\"Model \",\" VP  \",\"  FP \", \"VN  \",\"FN  \",\"Acuracy  \", \"Precision   \", \"Recall  \",\"F-score  \"]]\n",
    "result_models=[[\"Model\",\"Acuracy\", \"Precision\", \"Recall\",\"F-score\"]]\n"
   ]
  },
  {
   "cell_type": "code",
   "execution_count": 167,
   "metadata": {},
   "outputs": [],
   "source": [
    "matrix_model=matrix_svc\n",
    "cmresult=[model]\n",
    "VP=matrix_model[0][0]\n",
    "cmresult.append(VP)"
   ]
  },
  {
   "cell_type": "code",
   "execution_count": 168,
   "metadata": {},
   "outputs": [
    {
     "data": {
      "text/plain": [
       "[['Model', 'Acuracy', 'Precision', 'Recall', 'F-score'],\n",
       " ['  SVC', '0.50133', '0.99601', '0.50134', '0.66696']]"
      ]
     },
     "execution_count": 168,
     "metadata": {},
     "output_type": "execute_result"
    }
   ],
   "source": [
    "\n",
    "# model=\"SVC\" already created before\n",
    "cmresult=[model]\n",
    "VP=matrix_model[0][0]\n",
    "#cmresult.append(VP)\n",
    "FP=matrix_model[1][0]\n",
    "#cmresult.append(FP)\n",
    "VN=matrix_model[0][1]\n",
    "#cmresult.append(VN)\n",
    "FN=matrix_model[1][1]\n",
    "#cmresult.append(FN)\n",
    "Acur=(VP+VN)/(VP+VN+FP+FN)\n",
    "cmresult.append('%.5f' %Acur)\n",
    "Prec=VP / (VP + FP)\n",
    "cmresult.append('%.5f' % Prec)\n",
    "Recall=VP / (VP + FN)\n",
    "cmresult.append('%.5f' %Recall)\n",
    "F_score=2* (Prec * Recall) / (Prec + Recall)\n",
    "cmresult.append('%.5f' %F_score)\n",
    "result_models.append(cmresult) \n",
    "result_models"
   ]
  },
  {
   "cell_type": "code",
   "execution_count": 169,
   "metadata": {},
   "outputs": [
    {
     "name": "stdout",
     "output_type": "stream",
     "text": [
      "Model Acuracy Precision Recall F-score \n",
      "  SVC 0.50133 0.99601 0.50134 0.66696 \n"
     ]
    }
   ],
   "source": [
    "for i in range(len(result_models)) :  \n",
    "    for j in range(len(result_models[i])) :  \n",
    "        print(result_models[i][j], end=\" \") \n",
    "    print() "
   ]
  },
  {
   "cell_type": "markdown",
   "metadata": {},
   "source": [
    "# PART 2 \n",
    "Testing several models\n",
    "-------------------------------------------------------"
   ]
  },
  {
   "cell_type": "code",
   "execution_count": 178,
   "metadata": {},
   "outputs": [
    {
     "data": {
      "text/plain": [
       "7000"
      ]
     },
     "execution_count": 178,
     "metadata": {},
     "output_type": "execute_result"
    }
   ],
   "source": [
    "\n",
    "'''\n",
    "Como MAIS DE 1 MODELO será  TESTADO:\n",
    "     svm.SVC()\n",
    "    tree.DecisionTreeClassifier()\n",
    "    ensemble.RandomForestClassifier()\n",
    "    neighbours.KNeighborsClassifier()\n",
    "\n",
    "Então VAMOS REPETIR A ETAPA DE AMOSTRAGEM\n",
    "p/ VALIDAÇAO CRUZADA\n",
    "\n",
    "Entao precisamos divir o dataset. \n",
    "Cada modelos irá contar com um dataset de teste e validação diferentes.\n",
    "\n",
    "            DATASET: [estrelas +galaxias/\n",
    "                            | (amostragem aleatoria)\n",
    "                            v\n",
    "        Treinamento               ValidaçÃO\n",
    "        [estrelas+galaxias]    [estrelas+galaxias]     \n",
    "            |\n",
    "            v  (mais uma etapa de amostragem aleatoria: dividir em (i) partes , para i modelos)\n",
    "\n",
    "Treinamento(i)               ValidaçÃO\n",
    "[estrelas+galaxias](i)    [estrelas+galaxias] (i)  \n",
    "\n",
    "Exemplo: 4 modelos\n",
    "          Dataset \"Treinamento\" subdividido\n",
    "          p/ teste ou validação (V)  \n",
    "          \n",
    "                      Amostra\n",
    "            Modelo 1:   (V)   1   2   3\n",
    "            Modelo 2:    0   (V)  2   3\n",
    "            Modelo 3:    0    1  (V)  3\n",
    "            Modelo 4:    0    1   2  (V)\n",
    "\n",
    "'''\n",
    "# 1 fase : fazer 1a  divisão do dataset principal\n",
    "x_train, x_test, y_train, y_test = train_test_split(atribut2, \n",
    "                                                    class2,\n",
    "                                                    test_size=0.3, \n",
    "                                                    random_state=2)   ## regra \"randomica\"\n",
    "\n",
    "len(x_train)"
   ]
  },
  {
   "cell_type": "code",
   "execution_count": 180,
   "metadata": {},
   "outputs": [
    {
     "data": {
      "text/plain": [
       "1750"
      ]
     },
     "execution_count": 180,
     "metadata": {},
     "output_type": "execute_result"
    }
   ],
   "source": [
    "nmodels=4\n",
    "nsample=int(len(x_train)/nmodels)\n",
    "x_sample=nmodels*[0]\n",
    "y_sample=nmodels*[0]\n",
    "c=0\n",
    "for i in range(nmodels):\n",
    "    x_sample[i]=x_train[c:(c+nsample)]\n",
    "    y_sample[i]=y_train[c:(c+nsample)]\n",
    "    c+=nsample\n",
    "    \n",
    "len(x_sample[nmodels-1])"
   ]
  },
  {
   "cell_type": "code",
   "execution_count": 224,
   "metadata": {},
   "outputs": [
    {
     "name": "stdout",
     "output_type": "stream",
     "text": [
      "      FWHM_n     A     B  KrRadDet  uJAVA_auto  F378_auto  F395_auto  \\\n",
      "3194    2.57  5.09  3.58      1.55       19.42      18.97      18.98   \n",
      "1507    1.86  2.42  2.08      1.43       20.30      20.05      19.83   \n",
      "3438    3.53  4.90  2.83      1.10       20.21      20.24      19.81   \n",
      "9707    0.93  2.15  1.98      1.17       18.75      18.47      18.27   \n",
      "9689    0.98  2.59  2.54      1.00       19.75      19.49      19.14   \n",
      "...      ...   ...   ...       ...         ...        ...        ...   \n",
      "2725    4.10  5.28  4.26      1.50       19.39      19.32      19.23   \n",
      "2958    3.39  2.86  2.67      1.44       20.66      20.66      20.63   \n",
      "8146    1.07  2.68  2.50      1.00       17.75      17.52      17.27   \n",
      "7937    0.96  2.19  1.98      1.17       18.34      18.04      17.84   \n",
      "6695    0.99  2.11  2.06      1.00       20.25      20.06      19.62   \n",
      "\n",
      "      F410_auto  F430_auto  g_auto  F515_auto  r_auto  F660_auto  i_auto  \\\n",
      "3194      18.62      18.55   18.27      18.01   17.74      17.52   17.57   \n",
      "1507      19.74      19.63   19.42      19.07   18.98      18.92   18.74   \n",
      "3438      19.98      19.50   18.73      18.58   17.99      17.87   17.59   \n",
      "9707      17.94      17.87   17.61      17.44   17.19      17.14   17.06   \n",
      "9689      18.27      18.00   17.32      17.25   16.42      16.29   16.07   \n",
      "...         ...        ...     ...        ...     ...        ...     ...   \n",
      "2725      18.80      18.62   18.36      18.09   17.86      17.78   17.58   \n",
      "2958      20.56      20.02   19.76      19.34   19.21      19.02   18.83   \n",
      "8146      16.61      16.54   16.03      15.84   15.43      15.40   15.29   \n",
      "7937      17.66      17.49   17.39      17.27   17.08      17.06   16.98   \n",
      "6695      18.64      18.33   17.60      17.47   16.45      16.23   16.00   \n",
      "\n",
      "      F861_auto  z_auto  \n",
      "3194      17.52   17.46  \n",
      "1507      18.68   18.56  \n",
      "3438      17.39   17.38  \n",
      "9707      17.02   17.02  \n",
      "9689      15.97   15.94  \n",
      "...         ...     ...  \n",
      "2725      17.47   17.49  \n",
      "2958      18.59   18.82  \n",
      "8146      15.27   15.28  \n",
      "7937      17.00   17.04  \n",
      "6695      15.87   15.85  \n",
      "\n",
      "[1750 rows x 16 columns]\n"
     ]
    }
   ],
   "source": [
    "print(x_sample[0])  #,x_sample[nmodels-1])"
   ]
  },
  {
   "cell_type": "code",
   "execution_count": 225,
   "metadata": {},
   "outputs": [
    {
     "name": "stdout",
     "output_type": "stream",
     "text": [
      "      FWHM_n     A     B  KrRadDet  uJAVA_auto  F378_auto  F395_auto  \\\n",
      "8748    1.09  2.60  2.31      1.00       19.01      18.72      18.50   \n",
      "3354    3.51  4.08  3.08      1.37       19.68      19.17      19.00   \n",
      "1003    2.58  4.02  3.44      1.44       20.30      20.47      20.37   \n",
      "6596    1.02  1.88  1.79      1.14       19.81      19.68      19.53   \n",
      "9745    1.03  1.95  1.80      1.22       20.20      19.92      19.63   \n",
      "...      ...   ...   ...       ...         ...        ...        ...   \n",
      "1099    1.65  2.44  2.14      1.40       20.75      20.97      20.48   \n",
      "2514    2.10  3.62  2.91      1.41       19.88      19.78      19.59   \n",
      "6637    0.99  2.00  1.94      1.08       20.61      20.61      20.38   \n",
      "2575    3.77  6.22  3.16      1.43       19.02      18.76      18.68   \n",
      "7336    1.00  2.63  2.59      1.16       17.96      17.67      17.44   \n",
      "\n",
      "      F410_auto  F430_auto  g_auto  F515_auto  r_auto  F660_auto  i_auto  \\\n",
      "8748      17.93      17.73   17.16      16.99   16.42      16.35   16.18   \n",
      "3354      19.02      18.61   18.41      18.13   17.85      17.77   17.54   \n",
      "1003      19.40      19.71   19.36      19.19   19.00      18.99   18.68   \n",
      "6596      18.86      18.80   18.24      17.99   17.50      17.42   17.26   \n",
      "9745      19.11      19.09   18.73      18.56   18.23      18.15   18.04   \n",
      "...         ...        ...     ...        ...     ...        ...     ...   \n",
      "1099      20.49      20.26   19.82      19.46   19.10      18.96   18.76   \n",
      "2514      19.06      19.04   18.78      18.52   18.30      18.27   18.13   \n",
      "6637      19.53      19.20   18.23      18.21   17.10      16.91   16.64   \n",
      "2575      18.33      17.98   17.91      17.64   17.30      17.16   16.95   \n",
      "7336      17.23      17.12   17.00      16.81   16.66      16.64   16.59   \n",
      "\n",
      "      F861_auto  z_auto  \n",
      "8748      16.12   16.09  \n",
      "3354      17.42   17.38  \n",
      "1003      18.74   18.74  \n",
      "6596      17.18   17.11  \n",
      "9745      17.96   17.98  \n",
      "...         ...     ...  \n",
      "1099      18.67   18.64  \n",
      "2514      18.06   18.01  \n",
      "6637      16.40   16.35  \n",
      "2575      16.67   16.72  \n",
      "7336      16.56   16.58  \n",
      "\n",
      "[1750 rows x 16 columns]\n"
     ]
    }
   ],
   "source": [
    "print(x_sample[nmodels-1])"
   ]
  },
  {
   "cell_type": "code",
   "execution_count": null,
   "metadata": {},
   "outputs": [],
   "source": [
    "\n"
   ]
  },
  {
   "cell_type": "code",
   "execution_count": 266,
   "metadata": {},
   "outputs": [],
   "source": [
    "'''\n",
    "MODELO 1 - SVC\n",
    "\n",
    "A separação não precisa ser necessariamente linear \n",
    "Para tanto, modifica-se o kernel\n",
    "\n",
    "'''\n",
    "\n",
    "frames_x = [x_sample[1], x_sample[2], x_sample[3]]\n",
    "frames_y = [y_sample[1], y_sample[2], y_sample[3]]\n",
    "x_train=pd.concat(frames_x)\n",
    "y_train=pd.concat(frames_y)\n",
    "len(x_train)\n",
    "x_test_s=x_sample[0]\n",
    "y_test_s=y_sample[0]"
   ]
  },
  {
   "cell_type": "code",
   "execution_count": 267,
   "metadata": {},
   "outputs": [
    {
     "data": {
      "text/plain": [
       "SVC(C=1.0, cache_size=200, class_weight=None, coef0=0.0,\n",
       "    decision_function_shape='ovr', degree=3, gamma='auto_deprecated',\n",
       "    kernel='linear', max_iter=-1, probability=False, random_state=None,\n",
       "    shrinking=True, tol=0.001, verbose=False)"
      ]
     },
     "execution_count": 267,
     "metadata": {},
     "output_type": "execute_result"
    }
   ],
   "source": [
    "#clf2.fit(x_train,y_train)\n",
    "#ou\n",
    "clf_svc = SVC(kernel='linear')\n",
    "clf_svc.fit(x_train,y_train.values.ravel())\n"
   ]
  },
  {
   "cell_type": "code",
   "execution_count": 269,
   "metadata": {},
   "outputs": [],
   "source": [
    "y_pred_1= clf_svc.predict(x_test_s)\n",
    "\n",
    "matrix_1=confusion_matrix(y_test_s,y_pred_1)"
   ]
  },
  {
   "cell_type": "code",
   "execution_count": 270,
   "metadata": {},
   "outputs": [
    {
     "name": "stdout",
     "output_type": "stream",
     "text": [
      "Confusion matrix, without normalization\n",
      "[[888   3]\n",
      " [  3 856]]\n"
     ]
    },
    {
     "data": {
      "image/png": "[encoded data removed]",
      "text/plain": [
       "<Figure size 432x288 with 2 Axes>"
      ]
     },
     "metadata": {
      "needs_background": "light"
     },
     "output_type": "display_data"
    }
   ],
   "source": [
    "model=\" SVC\"\n",
    "#fig,ax=plt.subplots(figsize=(9,9))\n",
    "\n",
    "fig= plot_confusion_matrix(matrix_1,classes=['0','1'])\n",
    "plt.title('Confusion matrix \\n model:%s' %model)   #replace original title\n",
    "b, t = plt.ylim() # discover the values for bottom and top\n",
    "b += 0.5 # Add 0.5 to the bottom\n",
    "t -= 0.5 # subtract 0.5 from the top\n",
    "plt.ylim(b, t) # update the ylim(bottom, top) values\n",
    "plt.show()"
   ]
  },
  {
   "cell_type": "code",
   "execution_count": 271,
   "metadata": {},
   "outputs": [],
   "source": [
    "# Run only for first model\n",
    "result_models=[[\"Model\",\"Acuracy\", \"Precision\", \"Recall\",\"F-score\"]]"
   ]
  },
  {
   "cell_type": "code",
   "execution_count": 272,
   "metadata": {},
   "outputs": [
    {
     "name": "stdout",
     "output_type": "stream",
     "text": [
      "Model Acuracy Precision Recall F-score \n",
      " SVC 0.50914 0.99663 0.50917 0.67400 \n"
     ]
    }
   ],
   "source": [
    "# RESULTADOS\n",
    "matrix_model=matrix_svc\n",
    "cmresult=[model]\n",
    "VP=matrix_model[0][0]\n",
    "cmresult.append(VP)\n",
    "\n",
    "# model=\"XXXXX\" already created before\n",
    "cmresult=[model]\n",
    "VP=matrix_model[0][0]\n",
    "#cmresult.append(VP)\n",
    "FP=matrix_model[1][0]\n",
    "#cmresult.append(FP)\n",
    "VN=matrix_model[0][1]\n",
    "#cmresult.append(VN)\n",
    "FN=matrix_model[1][1]\n",
    "#cmresult.append(FN)\n",
    "Acur=(VP+VN)/(VP+VN+FP+FN)\n",
    "cmresult.append('%.5f' %Acur)\n",
    "Prec=VP / (VP + FP)\n",
    "cmresult.append('%.5f' % Prec)\n",
    "Recall=VP / (VP + FN)\n",
    "cmresult.append('%.5f' %Recall)\n",
    "F_score=2* (Prec * Recall) / (Prec + Recall)\n",
    "cmresult.append('%.5f' %F_score)\n",
    "result_models.append(cmresult) \n",
    "result_models\n",
    "for i in range(len(result_models)) :  \n",
    "    for j in range(len(result_models[i])) :  \n",
    "        print(result_models[i][j], end=\" \") \n",
    "    print() "
   ]
  },
  {
   "cell_type": "code",
   "execution_count": null,
   "metadata": {},
   "outputs": [],
   "source": []
  },
  {
   "cell_type": "code",
   "execution_count": null,
   "metadata": {},
   "outputs": [],
   "source": []
  },
  {
   "cell_type": "code",
   "execution_count": 273,
   "metadata": {},
   "outputs": [
    {
     "data": {
      "text/plain": [
       "DecisionTreeClassifier(class_weight=None, criterion='gini', max_depth=None,\n",
       "                       max_features=None, max_leaf_nodes=None,\n",
       "                       min_impurity_decrease=0.0, min_impurity_split=None,\n",
       "                       min_samples_leaf=1, min_samples_split=2,\n",
       "                       min_weight_fraction_leaf=0.0, presort=False,\n",
       "                       random_state=None, splitter='best')"
      ]
     },
     "execution_count": 273,
     "metadata": {},
     "output_type": "execute_result"
    }
   ],
   "source": [
    "'''\n",
    "MODELO 2 - DEcision Tree Classifier\n",
    "\n",
    "A separação não precisa ser necessariamente linear \n",
    "Para tanto, modifica-se o kernel\n",
    "'''\n",
    "\n",
    "\n",
    "\n",
    "\n",
    "\n",
    "frames_x = [x_sample[0], x_sample[2], x_sample[3]]   ####### CHANGE\n",
    "frames_y = [y_sample[0], y_sample[2], y_sample[3]]    ####### CHANGE\n",
    "x_train=pd.concat(frames_x)\n",
    "y_train=pd.concat(frames_y)\n",
    "len(x_train)\n",
    "x_test_s=x_sample[1]     ####### CHANGE\n",
    "y_test_s=y_sample[1]      ####### CHANGE\n",
    "\n",
    "######## Model structure\n",
    "clf_dtc = DecisionTreeClassifier()    ####### CHANGE\n",
    "clf_dtc.fit(x_train,y_train.values.ravel()) ####### CHANGE "
   ]
  },
  {
   "cell_type": "code",
   "execution_count": 274,
   "metadata": {},
   "outputs": [
    {
     "name": "stdout",
     "output_type": "stream",
     "text": [
      "Confusion matrix, without normalization\n",
      "[[874   9]\n",
      " [  7 860]]\n"
     ]
    },
    {
     "data": {
      "image/png": "[encoded data removed]",
      "text/plain": [
       "<Figure size 432x288 with 2 Axes>"
      ]
     },
     "metadata": {
      "needs_background": "light"
     },
     "output_type": "display_data"
    }
   ],
   "source": [
    "y_pred_2=clf_dtc.predict(x_test_s)   #####change\n",
    "\n",
    "matrix_2=confusion_matrix(y_test_s,y_pred_2)    ######change\n",
    "\n",
    "model=\" DecTree\"     ################change\n",
    "#fig,ax=plt.subplots(figsize=(9,9))\n",
    "\n",
    "fig= plot_confusion_matrix(matrix_2,classes=['0','1'])   #########change\n",
    "plt.title('Confusion matrix \\n model:%s' %model)   #replace original title\n",
    "b, t = plt.ylim() # discover the values for bottom and top\n",
    "b += 0.5 # Add 0.5 to the bottom\n",
    "t -= 0.5 # subtract 0.5 from the top\n",
    "plt.ylim(b, t) # update the ylim(bottom, top) values\n",
    "plt.show()\n"
   ]
  },
  {
   "cell_type": "code",
   "execution_count": 275,
   "metadata": {},
   "outputs": [
    {
     "name": "stdout",
     "output_type": "stream",
     "text": [
      "Model Acuracy Precision Recall F-score \n",
      " SVC 0.50914 0.99663 0.50917 0.67400 \n",
      " DecTree 0.50457 0.99205 0.50404 0.66845 \n"
     ]
    }
   ],
   "source": [
    "# RESULTADOS\n",
    "matrix_model=matrix_2  ############change\n",
    "cmresult=[model]\n",
    "VP=matrix_model[0][0]\n",
    "cmresult.append(VP)\n",
    "\n",
    "# model=\"XXXXX\" already created before\n",
    "cmresult=[model]\n",
    "VP=matrix_model[0][0]\n",
    "#cmresult.append(VP)\n",
    "FP=matrix_model[1][0]\n",
    "#cmresult.append(FP)\n",
    "VN=matrix_model[0][1]\n",
    "#cmresult.append(VN)\n",
    "FN=matrix_model[1][1]\n",
    "#cmresult.append(FN)\n",
    "Acur=(VP+VN)/(VP+VN+FP+FN)\n",
    "cmresult.append('%.5f' %Acur)\n",
    "Prec=VP / (VP + FP)\n",
    "cmresult.append('%.5f' % Prec)\n",
    "Recall=VP / (VP + FN)\n",
    "cmresult.append('%.5f' %Recall)\n",
    "F_score=2* (Prec * Recall) / (Prec + Recall)\n",
    "cmresult.append('%.5f' %F_score)\n",
    "result_models.append(cmresult) \n",
    "result_models\n",
    "for i in range(len(result_models)) :  \n",
    "    for j in range(len(result_models[i])) :  \n",
    "        print(result_models[i][j], end=\" \") \n",
    "    print() "
   ]
  },
  {
   "cell_type": "code",
   "execution_count": null,
   "metadata": {},
   "outputs": [],
   "source": []
  },
  {
   "cell_type": "code",
   "execution_count": 247,
   "metadata": {},
   "outputs": [
    {
     "name": "stderr",
     "output_type": "stream",
     "text": [
      "c:\\users\\dalciana\\appdata\\local\\programs\\python\\python37-32\\lib\\site-packages\\sklearn\\ensemble\\forest.py:245: FutureWarning: The default value of n_estimators will change from 10 in version 0.20 to 100 in 0.22.\n",
      "  \"10 in version 0.20 to 100 in 0.22.\", FutureWarning)\n"
     ]
    },
    {
     "data": {
      "text/plain": [
       "RandomForestClassifier(bootstrap=True, class_weight=None, criterion='gini',\n",
       "                       max_depth=None, max_features='auto', max_leaf_nodes=None,\n",
       "                       min_impurity_decrease=0.0, min_impurity_split=None,\n",
       "                       min_samples_leaf=1, min_samples_split=2,\n",
       "                       min_weight_fraction_leaf=0.0, n_estimators=10,\n",
       "                       n_jobs=None, oob_score=False, random_state=None,\n",
       "                       verbose=0, warm_start=False)"
      ]
     },
     "execution_count": 247,
     "metadata": {},
     "output_type": "execute_result"
    }
   ],
   "source": [
    "'''\n",
    "MODELO 3 - ensemble.RandomForestClassifier()\n",
    "\n",
    "A separação não precisa ser necessariamente linear \n",
    "Para tanto, modifica-se o kernel\n",
    "'''\n",
    "\n",
    "\n",
    "\n",
    "\n",
    "\n",
    "\n",
    "\n",
    "\n",
    "\n",
    "\n",
    "frames_x = [x_sample[0], x_sample[1], x_sample[3]]   ####### CHANGE\n",
    "frames_y = [y_sample[0], y_sample[1], y_sample[3]]    ####### CHANGE\n",
    "x_train=pd.concat(frames_x)\n",
    "y_train=pd.concat(frames_y)\n",
    "len(x_train)\n",
    "x_test_s=x_sample[2]     ####### CHANGE\n",
    "y_test_s=y_sample[2]      ####### CHANGE\n",
    "\n",
    "######## Model structure\n",
    "clf_rf = RandomForestClassifier()    ####### CHANGE\n",
    "clf_rf.fit(x_train,y_train.values.ravel()) ####### CHANGE "
   ]
  },
  {
   "cell_type": "code",
   "execution_count": 276,
   "metadata": {},
   "outputs": [
    {
     "name": "stdout",
     "output_type": "stream",
     "text": [
      "Confusion matrix, without normalization\n",
      "[[883   0]\n",
      " [  1 866]]\n"
     ]
    },
    {
     "data": {
      "image/png": "[encoded data removed]",
      "text/plain": [
       "<Figure size 432x288 with 2 Axes>"
      ]
     },
     "metadata": {
      "needs_background": "light"
     },
     "output_type": "display_data"
    }
   ],
   "source": [
    "y_pred_3=clf_rf.predict(x_test_s)   #####change\n",
    "\n",
    "matrix_3=confusion_matrix(y_test_s,y_pred_3)    ######change\n",
    "\n",
    "model=\" RanFor\"     ################change\n",
    "#fig,ax=plt.subplots(figsize=(9,9))\n",
    "\n",
    "fig= plot_confusion_matrix(matrix_3,classes=['0','1'])   #########change\n",
    "plt.title('Confusion matrix \\n model:%s' %model)   #replace original title\n",
    "b, t = plt.ylim() # discover the values for bottom and top\n",
    "b += 0.5 # Add 0.5 to the bottom\n",
    "t -= 0.5 # subtract 0.5 from the top\n",
    "plt.ylim(b, t) # update the ylim(bottom, top) values\n",
    "plt.show()"
   ]
  },
  {
   "cell_type": "code",
   "execution_count": 277,
   "metadata": {},
   "outputs": [
    {
     "name": "stdout",
     "output_type": "stream",
     "text": [
      "Model Acuracy Precision Recall F-score \n",
      " SVC 0.50914 0.99663 0.50917 0.67400 \n",
      " DecTree 0.50457 0.99205 0.50404 0.66845 \n",
      " RanFor 0.50457 0.99887 0.50486 0.67072 \n"
     ]
    }
   ],
   "source": [
    "# RESULTADOS\n",
    "matrix_model=matrix_3  ############change\n",
    "cmresult=[model]\n",
    "VP=matrix_model[0][0]\n",
    "cmresult.append(VP)\n",
    "\n",
    "# model=\"XXXXX\" already created before\n",
    "cmresult=[model]\n",
    "VP=matrix_model[0][0]\n",
    "#cmresult.append(VP)\n",
    "FP=matrix_model[1][0]\n",
    "#cmresult.append(FP)\n",
    "VN=matrix_model[0][1]\n",
    "#cmresult.append(VN)\n",
    "FN=matrix_model[1][1]\n",
    "#cmresult.append(FN)\n",
    "Acur=(VP+VN)/(VP+VN+FP+FN)\n",
    "cmresult.append('%.5f' %Acur)\n",
    "Prec=VP / (VP + FP)\n",
    "cmresult.append('%.5f' % Prec)\n",
    "Recall=VP / (VP + FN)\n",
    "cmresult.append('%.5f' %Recall)\n",
    "F_score=2* (Prec * Recall) / (Prec + Recall)\n",
    "cmresult.append('%.5f' %F_score)\n",
    "result_models.append(cmresult) \n",
    "result_models\n",
    "for i in range(len(result_models)) :  \n",
    "    for j in range(len(result_models[i])) :  \n",
    "        print(result_models[i][j], end=\" \") \n",
    "    print() "
   ]
  },
  {
   "cell_type": "code",
   "execution_count": null,
   "metadata": {},
   "outputs": [],
   "source": []
  },
  {
   "cell_type": "code",
   "execution_count": null,
   "metadata": {},
   "outputs": [],
   "source": []
  },
  {
   "cell_type": "code",
   "execution_count": 252,
   "metadata": {},
   "outputs": [
    {
     "data": {
      "text/plain": [
       "KNeighborsClassifier(algorithm='auto', leaf_size=30, metric='minkowski',\n",
       "                     metric_params=None, n_jobs=None, n_neighbors=5, p=2,\n",
       "                     weights='uniform')"
      ]
     },
     "execution_count": 252,
     "metadata": {},
     "output_type": "execute_result"
    }
   ],
   "source": [
    "\n",
    "'''\n",
    "MODELO 4 - neighbours.KNeighborsClassifier()\n",
    "'''\n",
    "\n",
    "\n",
    "frames_x = [x_sample[0], x_sample[1], x_sample[2]]   ####### CHANGE\n",
    "frames_y = [y_sample[0], y_sample[1], y_sample[2]]    ####### CHANGE\n",
    "x_train=pd.concat(frames_x)\n",
    "y_train=pd.concat(frames_y)\n",
    "len(x_train)\n",
    "x_test_s=x_sample[3]     ####### CHANGE\n",
    "y_test_s=y_sample[3]      ####### CHANGE\n",
    "\n",
    "######## Model structure\n",
    "clf_knc = KNeighborsClassifier()    ####### CHANGE\n",
    "clf_knc.fit(x_train,y_train.values.ravel()) ####### CHANGE "
   ]
  },
  {
   "cell_type": "code",
   "execution_count": 278,
   "metadata": {},
   "outputs": [
    {
     "name": "stdout",
     "output_type": "stream",
     "text": [
      "Confusion matrix, without normalization\n",
      "[[882   1]\n",
      " [  4 863]]\n"
     ]
    },
    {
     "data": {
      "image/png": "[encoded data removed]",
      "text/plain": [
       "<Figure size 432x288 with 2 Axes>"
      ]
     },
     "metadata": {
      "needs_background": "light"
     },
     "output_type": "display_data"
    }
   ],
   "source": [
    "y_pred_4=clf_knc.predict(x_test_s)   #####change\n",
    "\n",
    "matrix_4=confusion_matrix(y_test_s,y_pred_4)    ######change\n",
    "\n",
    "model=\" K-nc\"     ################change\n",
    "#fig,ax=plt.subplots(figsize=(9,9))\n",
    "\n",
    "fig= plot_confusion_matrix(matrix_4,classes=['0','1'])   #########change\n",
    "plt.title('Confusion matrix \\n model:%s' %model)   #replace original title\n",
    "b, t = plt.ylim() # discover the values for bottom and top\n",
    "b += 0.5 # Add 0.5 to the bottom\n",
    "t -= 0.5 # subtract 0.5 from the top\n",
    "plt.ylim(b, t) # update the ylim(bottom, top) values\n",
    "plt.show()"
   ]
  },
  {
   "cell_type": "code",
   "execution_count": 279,
   "metadata": {},
   "outputs": [
    {
     "name": "stdout",
     "output_type": "stream",
     "text": [
      "Model Acuracy Precision Recall F-score \n",
      " SVC 0.50914 0.99663 0.50917 0.67400 \n",
      " DecTree 0.50457 0.99205 0.50404 0.66845 \n",
      " RanFor 0.50457 0.99887 0.50486 0.67072 \n",
      " K-nc 0.50457 0.99549 0.50544 0.67047 \n"
     ]
    }
   ],
   "source": [
    "# RESULTADOS\n",
    "matrix_model=matrix_4  ############change\n",
    "cmresult=[model]\n",
    "VP=matrix_model[0][0]\n",
    "cmresult.append(VP)\n",
    "\n",
    "# model=\"XXXXX\" already created before\n",
    "cmresult=[model]\n",
    "VP=matrix_model[0][0]\n",
    "#cmresult.append(VP)\n",
    "FP=matrix_model[1][0]\n",
    "#cmresult.append(FP)\n",
    "VN=matrix_model[0][1]\n",
    "#cmresult.append(VN)\n",
    "FN=matrix_model[1][1]\n",
    "#cmresult.append(FN)\n",
    "Acur=(VP+VN)/(VP+VN+FP+FN)\n",
    "cmresult.append('%.5f' %Acur)\n",
    "Prec=VP / (VP + FP)\n",
    "cmresult.append('%.5f' % Prec)\n",
    "Recall=VP / (VP + FN)\n",
    "cmresult.append('%.5f' %Recall)\n",
    "F_score=2* (Prec * Recall) / (Prec + Recall)\n",
    "cmresult.append('%.5f' %F_score)\n",
    "result_models.append(cmresult) \n",
    "result_models\n",
    "for i in range(len(result_models)) :  \n",
    "    for j in range(len(result_models[i])) :  \n",
    "        print(result_models[i][j], end=\" \") \n",
    "    print() "
   ]
  },
  {
   "cell_type": "code",
   "execution_count": 263,
   "metadata": {},
   "outputs": [
    {
     "name": "stdout",
     "output_type": "stream",
     "text": [
      "Model Acuracy Precision Recall F-score \n",
      "  SVC 0.50914 0.99663 0.50917 0.67400 \n",
      "  DEcTr 0.50457 0.99549 0.50573 0.67072 \n",
      "  Ranfor 0.50057 0.99206 0.50230 0.66692 \n",
      " K-nc 0.48343 0.99764 0.48369 0.65150 \n"
     ]
    }
   ],
   "source": [
    "for i in range(len(result_models)) :  \n",
    "    for j in range(len(result_models[i])) :  \n",
    "        print(result_models[i][j], end=\" \") \n",
    "    print() "
   ]
  },
  {
   "cell_type": "code",
   "execution_count": 280,
   "metadata": {},
   "outputs": [
    {
     "name": "stdout",
     "output_type": "stream",
     "text": [
      "Confusion matrix, without normalization\n",
      "[[1488   16]\n",
      " [  10 1486]]\n"
     ]
    },
    {
     "data": {
      "image/png": "[encoded data removed]",
      "text/plain": [
       "<Figure size 432x288 with 2 Axes>"
      ]
     },
     "metadata": {
      "needs_background": "light"
     },
     "output_type": "display_data"
    }
   ],
   "source": [
    "'''\n",
    "Model chosen :  DEcTree --> model 3\n",
    "\n",
    "Use original x_test and y_test\n",
    "'''\n",
    "model=\" DecTree\" \n",
    "y_pred_final=clf_dtc.predict(x_test)   #####change\n",
    "\n",
    "matrix_f=confusion_matrix(y_test,y_pred_final)    ######change\n",
    "\n",
    "    ################change\n",
    "#fig,ax=plt.subplots(figsize=(9,9))\n",
    "\n",
    "fig= plot_confusion_matrix(matrix_f,classes=['0','1'])   #########change\n",
    "plt.title('Confusion matrix \\n model:%s' %model)   #replace original title\n",
    "b, t = plt.ylim() # discover the values for bottom and top\n",
    "b += 0.5 # Add 0.5 to the bottom\n",
    "t -= 0.5 # subtract 0.5 from the top\n",
    "plt.ylim(b, t) # update the ylim(bottom, top) values\n",
    "plt.show()\n"
   ]
  },
  {
   "cell_type": "code",
   "execution_count": 281,
   "metadata": {},
   "outputs": [
    {
     "name": "stdout",
     "output_type": "stream",
     "text": [
      "Model Acuracy Precision Recall F-score \n",
      " SVC 0.50914 0.99663 0.50917 0.67400 \n",
      " DecTree 0.50457 0.99205 0.50404 0.66845 \n",
      " RanFor 0.50457 0.99887 0.50486 0.67072 \n",
      " K-nc 0.50457 0.99549 0.50544 0.67047 \n",
      " DecTree 0.50133 0.99332 0.50034 0.66547 \n"
     ]
    }
   ],
   "source": [
    "# RESULTADOS\n",
    "matrix_model=matrix_f  ############change\n",
    "cmresult=[model+\"_f\"]\n",
    "VP=matrix_model[0][0]\n",
    "cmresult.append(VP)\n",
    "\n",
    "# model=\"XXXXX\" already created before\n",
    "cmresult=[model]\n",
    "VP=matrix_model[0][0]\n",
    "#cmresult.append(VP)\n",
    "FP=matrix_model[1][0]\n",
    "#cmresult.append(FP)\n",
    "VN=matrix_model[0][1]\n",
    "#cmresult.append(VN)\n",
    "FN=matrix_model[1][1]\n",
    "#cmresult.append(FN)\n",
    "Acur=(VP+VN)/(VP+VN+FP+FN)\n",
    "cmresult.append('%.5f' %Acur)\n",
    "Prec=VP / (VP + FP)\n",
    "cmresult.append('%.5f' % Prec)\n",
    "Recall=VP / (VP + FN)\n",
    "cmresult.append('%.5f' %Recall)\n",
    "F_score=2* (Prec * Recall) / (Prec + Recall)\n",
    "cmresult.append('%.5f' %F_score)\n",
    "result_models.append(cmresult) \n",
    "result_models\n",
    "for i in range(len(result_models)) :  \n",
    "    for j in range(len(result_models[i])) :  \n",
    "        print(result_models[i][j], end=\" \") \n",
    "    print() "
   ]
  },
  {
   "cell_type": "code",
   "execution_count": 282,
   "metadata": {},
   "outputs": [],
   "source": [
    "'''\n",
    "Results\n",
    "\n",
    "Rod.1 )  30% data for validation\n",
    "          random=2      \n",
    "'''\n",
    "result_models_rod_1=result_models"
   ]
  },
  {
   "cell_type": "code",
   "execution_count": null,
   "metadata": {},
   "outputs": [],
   "source": []
  }
 ],
 "metadata": {
  "kernelspec": {
   "display_name": "Python 3",
   "language": "python",
   "name": "python3"
  },
  "language_info": {
   "codemirror_mode": {
    "name": "ipython",
    "version": 3
   },
   "file_extension": ".py",
   "mimetype": "text/x-python",
   "name": "python",
   "nbconvert_exporter": "python",
   "pygments_lexer": "ipython3",
   "version": "3.7.4"
  }
 },
 "nbformat": 4,
 "nbformat_minor": 2
}
